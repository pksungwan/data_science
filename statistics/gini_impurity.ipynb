{
 "cells": [
  {
   "cell_type": "markdown",
   "metadata": {},
   "source": [
    "## Gini Impurity\n",
    "\n",
    "Gini impurity is a measure of how impure a node is in a decision tree.\n",
    "\n",
    "Gini impurity is used to create a decision tree, and it is the default criterion in [`sklearn.tree.DecisionTreeClassifier`](https://scikit-learn.org/stable/modules/generated/sklearn.tree.DecisionTreeClassifier.html). \n",
    "\n",
    "$$\\text{Gini Impurity} = \\sum\\limits_{k} p_{k} * (1 - p_{k}) = \\sum\\limits_{k} p_{k} - p_{k}^2 = \\sum\\limits_{k} p_{k} - \\sum\\limits_{k} p_{k}^2 = 1 - \\sum\\limits_{k} p_{k}^2$$\n",
    "where k = class k of target\n",
    "\n",
    "Gini impurity ranges from 0 to 0.5. If every observations in the node is from one class, then gini impurity is 1 - 1^2 = 0. If half of the observations are from one class and other half are from the other class, then gini impurity = 1 - (0.5^2 + 0.5^2) = 0.5.\n",
    "\n",
    "Other criterion for decision tree is log loss or entropy and is given by the formula:\n",
    "\n",
    "$$\\text{Log Loss or Entropy} = -\\sum\\limits_{k} p_{k}log(p_{k})$$\n",
    "\n",
    "Both crierions measure impurity of the node and have higher values when the impurity of the tree node increases. When there is no impurity, both criterions are equal 0. You can view more about log loss in [this notebook](binary_cross_entropy.ipynb)."
   ]
  },
  {
   "cell_type": "code",
   "execution_count": 1,
   "metadata": {},
   "outputs": [
    {
     "name": "stdout",
     "output_type": "stream",
     "text": [
      "Gini Impurity [1, 1, 1, 1, 1]: 0.0\n",
      "Gini Impurity [0, 0, 0, 0, 0]: 0.0\n",
      "Gini Impurity [0, 0, 1, 1, 0]: 0.48\n",
      "Gini Impurity [1, 1, 1, 1, 0]: 0.32\n",
      "Gini Impurity [0, 0, 1, 1]: 0.5\n"
     ]
    }
   ],
   "source": [
    "import numpy as np\n",
    "\n",
    "def gini_impurity(y):\n",
    "    _, counts = np.unique(y, return_counts=True)\n",
    "    p = counts / len(y)\n",
    "    return 1 - np.sum(p ** 2)\n",
    "\n",
    "    return gini\n",
    "\n",
    "# Example usage:\n",
    "example = [1, 1, 1, 1, 1]\n",
    "print(f\"Gini Impurity {example}: {gini_impurity(example)}\")\n",
    "\n",
    "example = [0, 0, 0, 0, 0]\n",
    "print(f\"Gini Impurity {example}: {gini_impurity(example)}\")\n",
    "\n",
    "example = [0, 0, 1, 1, 0]\n",
    "print(f\"Gini Impurity {example}: {gini_impurity(example)}\")\n",
    "\n",
    "example = [1, 1, 1, 1, 0]\n",
    "print(f\"Gini Impurity {example}: {gini_impurity(example):.2f}\")\n",
    "\n",
    "example = [0, 0, 1, 1]\n",
    "print(f\"Gini Impurity {example}: {gini_impurity(example)}\")"
   ]
  }
 ],
 "metadata": {
  "kernelspec": {
   "display_name": ".venv",
   "language": "python",
   "name": "python3"
  },
  "language_info": {
   "codemirror_mode": {
    "name": "ipython",
    "version": 3
   },
   "file_extension": ".py",
   "mimetype": "text/x-python",
   "name": "python",
   "nbconvert_exporter": "python",
   "pygments_lexer": "ipython3",
   "version": "3.11.10"
  }
 },
 "nbformat": 4,
 "nbformat_minor": 2
}
