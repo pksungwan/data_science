{
 "cells": [
  {
   "cell_type": "markdown",
   "metadata": {},
   "source": [
    "## Binary Cross Entropy\n",
    "\n",
    "**Binary cross entropy (also known as log loss)** is frequently used as loss function for binary classification models. I often forget the formula and intuition behind it if I don't review it time to time. I created this notebook for quick reference.\n",
    "\n",
    "This notebook is created based on this resource - https://towardsdatascience.com/understanding-binary-cross-entropy-log-loss-a-visual-explanation-a3ac6025181a\n",
    "\n",
    "The binary cross entropy formula is given by:\n",
    "\n",
    "$$\n",
    "\\text{Binary Cross Entropy} = -\\frac{1}{N} \\sum_{i=1}^{N} \\left[ y_i \\log(p_i) + (1 - y_i) \\log(1 - p_i) \\right]\n",
    "$$\n",
    "\n",
    "where:\n",
    "- $N$ is the number of samples\n",
    "- $y_i$ is the true label (0 or 1) for the $i^{th}$ sample\n",
    "- $p_i$ is the predicted probability for the $i^{th}$ sample\n",
    "\n",
    "### Intuition\n",
    "Since this is a loss function, we want to assign high value when predicted probabilty is far from true label, and vice versa.\n",
    "\n",
    "For a sample with label = 1, we are only concerned with the left side of the formula because right side of the formula goes away since $(1 - y_i) = 0$. The left side of the formula is $y_i \\log(p_i)$ or $\\log(p_i)$ since $y_i=1$.\n",
    "- If predicted probability = 1 (perfect prediction), then $\\log(p_i) = 0$ making the term 0.\n",
    "- If predicted probability is close to 1 (good prediction), then $-\\log(p_i)$ with the minus term outside will be small.\n",
    "- If predicted probability is close to 0 (bad prediction), then the value of $-\\log(p_i)$ will be large.\n",
    "\n",
    "Similary, for a sample with label = 0, we are only concerned with the right side of the formula $(1 - y_i) \\log(1 - p_i)$ or $\\log(1 - p_i)$.\n",
    "- If predicted probability = 0 (perfect prediction), then $\\log(1 - p_i) = 0$ making the term 0.\n",
    "- If predicted probability is close to 0 (good prediction), then $-\\log(1 - p_i)$ will be small.\n",
    "- If predicted probability is close to 1 (bad prediction), then $-\\log(1 - p_i)$ will be large.\n",
    "\n",
    "The rest is calculating average of the calculation for all samples. The minus term is added because log(probability) or log(1 - probability) is negative since probability is in range of [0, 1].\n",
    "\n",
    "Now, we will take a look at a code example."
   ]
  },
  {
   "cell_type": "code",
   "execution_count": 1,
   "metadata": {},
   "outputs": [
    {
     "name": "stdout",
     "output_type": "stream",
     "text": [
      "Log Loss (Function): 0.6766\n",
      "Log Loss (Manual): 0.6766\n",
      "Log Loss = Manually Calculated Log Loss: True\n"
     ]
    },
    {
     "data": {
      "image/png": "[encoded data removed]",
      "text/plain": [
       "<Figure size 640x480 with 1 Axes>"
      ]
     },
     "metadata": {},
     "output_type": "display_data"
    }
   ],
   "source": [
    "import numpy as np\n",
    "from sklearn.linear_model import LogisticRegression\n",
    "from sklearn.metrics import log_loss\n",
    "import matplotlib.pyplot as plt\n",
    "\n",
    "# Generate ranom data\n",
    "n = 20 # number of samples\n",
    "p = 0.5 # probability of class 1\n",
    "X = np.random.rand(n)\n",
    "y = np.random.binomial(1, p, n)\n",
    "\n",
    "# Plot the data\n",
    "plt.scatter(X, np.zeros_like(X), c=['red' if label == 1 else 'green' for label in y]);\n",
    "\n",
    "# Use Logistic Regression to predict the probability of y given X\n",
    "lr = LogisticRegression()\n",
    "lr.fit(X.reshape(-1, 1), y)\n",
    "y_pred = lr.predict_proba(X.reshape(-1, 1))[:, 1]\n",
    "\n",
    "# Calculate log loss using pre-built function\n",
    "loss = log_loss(y, y_pred)\n",
    "\n",
    "# Calculate log loss manually\n",
    "manual_loss = -np.mean(y * np.log(y_pred) + (1 - y) * np.log(1 - y_pred)).item()\n",
    "\n",
    "print(f\"Log Loss (Function): {loss:.4f}\")\n",
    "print(f\"Log Loss (Manual): {manual_loss:.4f}\")\n",
    "\n",
    "# Check if the two methods give the same result\n",
    "print(f\"Log Loss = Manually Calculated Log Loss: {loss == manual_loss}\")"
   ]
  }
 ],
 "metadata": {
  "kernelspec": {
   "display_name": ".venv",
   "language": "python",
   "name": "python3"
  },
  "language_info": {
   "codemirror_mode": {
    "name": "ipython",
    "version": 3
   },
   "file_extension": ".py",
   "mimetype": "text/x-python",
   "name": "python",
   "nbconvert_exporter": "python",
   "pygments_lexer": "ipython3",
   "version": "3.11.10"
  }
 },
 "nbformat": 4,
 "nbformat_minor": 2
}
