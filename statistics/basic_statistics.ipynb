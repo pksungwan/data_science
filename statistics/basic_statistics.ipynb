{
 "cells": [
  {
   "cell_type": "markdown",
   "metadata": {},
   "source": [
    "## Basic Statistics\n",
    "\n",
    "**Table of Contents:**\n",
    "1. Variance\n",
    "2. Standard Deviation\n",
    "3. Covariance\n",
    "4. Correlation"
   ]
  },
  {
   "cell_type": "code",
   "execution_count": 1,
   "metadata": {},
   "outputs": [],
   "source": [
    "# We will use NumPy for this exercise\n",
    "import numpy as np"
   ]
  },
  {
   "cell_type": "markdown",
   "metadata": {},
   "source": [
    "### 1. Variance\n",
    "\n",
    "The variance of a dataset is a measure of how spread out the values are. It is calculated using the following formula:\n",
    "\n",
    "$$\n",
    "\\text{Sample Variance} = \\frac{1}{N-1} \\sum_{i=1}^{N} (x_i - \\bar{x})^2\n",
    "$$\n",
    "\n",
    "Where:\n",
    "- $N$ is the number of data points\n",
    "- $x_i$ is each individual data point\n",
    "- $\\bar{x}$ is the mean of the data points"
   ]
  },
  {
   "cell_type": "code",
   "execution_count": 2,
   "metadata": {},
   "outputs": [
    {
     "name": "stdout",
     "output_type": "stream",
     "text": [
      "Sample variance (NumPy): 2.5\n",
      "Sample variance (Manual): 2.5\n"
     ]
    }
   ],
   "source": [
    "# Define a sample data set\n",
    "X = np.array([1, 2, 3, 4, 5])\n",
    "\n",
    "# Calculate sample variance\n",
    "variance_manual = np.sum((X - X.mean())**2) / (X.size - 1)\n",
    "variance_numpy = np.var(X, ddof=1) # ddof=1 is used to calculate the sample variance (default is ddof=0 which calculates the population variance)\n",
    "\n",
    "# They should be the same\n",
    "print(f\"Sample variance (NumPy): {variance_numpy}\")\n",
    "print(f\"Sample variance (Manual): {variance_manual}\")"
   ]
  },
  {
   "cell_type": "markdown",
   "metadata": {},
   "source": []
  },
  {
   "cell_type": "markdown",
   "metadata": {},
   "source": [
    "### 2. Standard Deviation\n",
    "\n",
    "The sample standard deviation is also a measure of how spread out the values are. Variance squares the differences from the mean, which changes the original data's units. Standard deviation is square root of variance. Taking the square root reverses this, returning the measure of spread to the original data's scale and units. Standard deviation is calculated using the following formula:\n",
    "\n",
    "$$\n",
    "\\text{Sample Standard Deviation} = \\sqrt{\\frac{1}{N-1} \\sum_{i=1}^{N} (x_i - \\bar{x})^2} = \\sqrt{\\text{Sample Variance}}\n",
    "$$\n",
    "\n",
    "Where:\n",
    "- $N$ is the number of data points\n",
    "- $x_i$ is each individual data point\n",
    "- $\\bar{x}$ is the mean of the data points"
   ]
  },
  {
   "cell_type": "code",
   "execution_count": 3,
   "metadata": {},
   "outputs": [
    {
     "name": "stdout",
     "output_type": "stream",
     "text": [
      "Sample standard deviation (NumPy): 1.58\n",
      "Sample standard deviation (Manual): 1.58\n"
     ]
    }
   ],
   "source": [
    "# Calculate sample variance\n",
    "std_manual = np.sqrt(variance_manual)\n",
    "std_numpy = np.std(X, ddof=1) # ddof=1 is used to calculate the sample std (default is ddof=0 which calculates the population std)\n",
    "\n",
    "# They should be the same\n",
    "print(f\"Sample standard deviation (NumPy): {std_manual:.2f}\")\n",
    "print(f\"Sample standard deviation (Manual): {std_numpy:.2f}\")"
   ]
  },
  {
   "cell_type": "markdown",
   "metadata": {},
   "source": [
    "### 3. Covariance\n",
    "\n",
    "Covariance is a measure of how much two random variables vary together. The covariance between two variables \\(X\\) and \\(Y\\) is calculated using the following formula:\n",
    "\n",
    "$$\n",
    "\\text{Cov}(X, Y) = \\frac{1}{N-1} \\sum_{i=1}^{N} (x_i - \\bar{x})(y_i - \\bar{y})\n",
    "$$\n",
    "\n",
    "Where:\n",
    "- $N$ is the number of data points\n",
    "- $x_i$ and $y_i$ are the individual data points of $X$ and $Y$\n",
    "- $\\bar{x}$ and $\\bar{y}$ are the means of $X$ and $Y$ respectively"
   ]
  },
  {
   "cell_type": "code",
   "execution_count": 4,
   "metadata": {},
   "outputs": [
    {
     "name": "stdout",
     "output_type": "stream",
     "text": [
      "Sample covariance (NumPy): -2.50\n",
      "Sample covariance (Manual): -2.50\n"
     ]
    }
   ],
   "source": [
    "# Define another sample to calculate covariance and correlation\n",
    "Y = np.array([5, 4, 3, 2, 1])\n",
    "\n",
    "# Calculate sample covariance\n",
    "cov_manual = np.sum((X - X.mean())*(Y - Y.mean())) / (X.size - 1)\n",
    "cov_numpy = np.cov(X, Y, ddof=1)[0, 1]\n",
    "\n",
    "# They should be the same\n",
    "print(f\"Sample covariance (NumPy): {cov_manual:.2f}\")\n",
    "print(f\"Sample covariance (Manual): {cov_numpy:.2f}\")"
   ]
  },
  {
   "cell_type": "markdown",
   "metadata": {
    "vscode": {
     "languageId": "markdown"
    }
   },
   "source": [
    "### 4. Correlation\n",
    "\n",
    "Correlation is a measure of the strength and direction of the linear relationship between two variables. It is a standardized version of covariance and is calculated using the following formula:\n",
    "\n",
    "$$\n",
    "\\text{Correlation}(X, Y) = \\frac{\\text{Cov}(X, Y)}{\\sigma_X \\sigma_Y}\n",
    "$$\n",
    "\n",
    "Where:\n",
    "- $\\text{Cov}(X, Y)$ is the covariance between $X$ and $Y$\n",
    "- $\\sigma_X$ is the standard deviation of $X$\n",
    "- $\\sigma_Y$ is the standard deviation of $Y$"
   ]
  },
  {
   "cell_type": "code",
   "execution_count": 5,
   "metadata": {},
   "outputs": [
    {
     "name": "stdout",
     "output_type": "stream",
     "text": [
      "X: [1 2 3 4 5]\n",
      "Y: [5 4 3 2 1]\n",
      "Sample correlation (NumPy): -1.00\n",
      "Sample correlation (Manual): -1.00\n"
     ]
    }
   ],
   "source": [
    "# Show samples\n",
    "print(f\"X: {X}\")\n",
    "print(f\"Y: {Y}\")\n",
    "\n",
    "# Calculate sample correlation\n",
    "corr_manual = cov_manual / (std_manual * np.std(Y, ddof=1))\n",
    "corr_numpy = np.corrcoef(X, Y)[0, 1]\n",
    "\n",
    "# They should be the same\n",
    "print(f\"Sample correlation (NumPy): {corr_manual:.2f}\")\n",
    "print(f\"Sample correlation (Manual): {corr_numpy:.2f}\")"
   ]
  },
  {
   "cell_type": "markdown",
   "metadata": {},
   "source": [
    "The correlation coefficient ranges from -1 to 1:\n",
    "- A correlation of 1 indicates a perfect positive linear relationship.\n",
    "- A correlation of -1 indicates a perfect negative linear relationship.\n",
    "- A correlation of 0 indicates no linear relationship."
   ]
  },
  {
   "cell_type": "code",
   "execution_count": 6,
   "metadata": {},
   "outputs": [
    {
     "name": "stdout",
     "output_type": "stream",
     "text": [
      "Perfect Positive Correlation: 1.0\n",
      "Perfect Negative Correlation: -1.0\n",
      "Zero Correlation: 0.0\n"
     ]
    }
   ],
   "source": [
    "# Example of a perfect positive correlation\n",
    "print(f\"Perfect Positive Correlation: {np.corrcoef(X, X)[0, 1]:.1f}\")\n",
    "\n",
    "# Example of a perfect negative correlation\n",
    "print(f\"Perfect Negative Correlation: {np.corrcoef(X, -X)[0, 1]:.1f}\")\n",
    "\n",
    "# Example of a perfect zero correlation\n",
    "Z = np.array([1, 2, 1, 2, 1])\n",
    "print(f\"Zero Correlation: {np.corrcoef(X, Z)[0, 1]:.1f}\")"
   ]
  },
  {
   "cell_type": "markdown",
   "metadata": {},
   "source": [
    "**Why Correlation is Preferred Over Covariance**\n",
    "\n",
    "While covariance indicates the direction of the linear relationship between variables, it does not provide information about the strength of the relationship. Additionally, the magnitude of covariance is affected by the scale of the variables, making it difficult to compare covariances across different datasets.\n",
    "\n",
    "Correlation, on the other hand, is a dimensionless measure that standardizes the covariance by dividing it by the product of the standard deviations of the variables. This standardization makes correlation a more interpretable and comparable measure of the linear relationship between variables."
   ]
  },
  {
   "cell_type": "code",
   "execution_count": 7,
   "metadata": {},
   "outputs": [
    {
     "name": "stdout",
     "output_type": "stream",
     "text": [
      "X scaled: [1000 2000 3000 4000 5000]\n",
      "Y scaled: [5000 4000 3000 2000 1000]\n",
      "Covariance Scaled: -2500000.0\n",
      "Correlation Scaled: -1.0\n"
     ]
    }
   ],
   "source": [
    "# Sample data\n",
    "X_scaled = X * 1000\n",
    "Y_scaled =  Y * 1000\n",
    "\n",
    "# Show samples\n",
    "print(f\"X scaled: {X_scaled}\")\n",
    "print(f\"Y scaled: {Y_scaled}\")\n",
    "\n",
    "# Calculate the covariance and correlation\n",
    "cov_scaled = np.cov(X_scaled, Y_scaled, ddof=1)[0, 1]\n",
    "corr_scaled = np.corrcoef(X_scaled, Y_scaled)[0, 1]\n",
    "\n",
    "# Covariance changes significantly when changing the scale of the data, while correlation remains the same\n",
    "print(f\"Covariance Scaled: {cov_scaled}\")\n",
    "print(f\"Correlation Scaled: {corr_scaled:.1f}\")"
   ]
  }
 ],
 "metadata": {
  "kernelspec": {
   "display_name": ".venv",
   "language": "python",
   "name": "python3"
  },
  "language_info": {
   "codemirror_mode": {
    "name": "ipython",
    "version": 3
   },
   "file_extension": ".py",
   "mimetype": "text/x-python",
   "name": "python",
   "nbconvert_exporter": "python",
   "pygments_lexer": "ipython3",
   "version": "3.11.10"
  }
 },
 "nbformat": 4,
 "nbformat_minor": 2
}
